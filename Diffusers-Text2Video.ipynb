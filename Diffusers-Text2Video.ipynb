{
  "nbformat": 4,
  "nbformat_minor": 0,
  "metadata": {
    "colab": {
      "name": "Untitled4.ipynb",
      "provenance": [],
      "authorship_tag": "ABX9TyNWemzAPRkFs0ynkOGJDygA",
      "include_colab_link": true
    },
    "kernelspec": {
      "name": "python3",
      "display_name": "Python 3"
    },
    "language_info": {
      "name": "python"
    }
  },
  "cells": [
    {
      "cell_type": "markdown",
      "metadata": {
        "id": "view-in-github",
        "colab_type": "text"
      },
      "source": [
        "<a href=\"https://colab.research.google.com/github/basemdabbour/DiffusionModels/blob/main/Diffusers-Text2Video.ipynb\" target=\"_parent\"><img src=\"https://colab.research.google.com/assets/colab-badge.svg\" alt=\"Open In Colab\"/></a>"
      ]
    },
    {
      "cell_type": "code",
      "execution_count": 2,
      "metadata": {
        "colab": {
          "base_uri": "https://localhost:8080/"
        },
        "id": "A_bgrPeN9GJy",
        "outputId": "d3bd738b-bcf3-46b0-dc4f-cba840868200"
      },
      "outputs": [
        {
          "output_type": "stream",
          "name": "stdout",
          "text": [
            "Looking in indexes: https://pypi.org/simple, https://us-python.pkg.dev/colab-wheels/public/simple/\n",
            "Collecting video-diffusion-pytorch\n",
            "  Downloading video_diffusion_pytorch-0.6.0-py3-none-any.whl (12 kB)\n",
            "Collecting rotary-embedding-torch\n",
            "  Downloading rotary_embedding_torch-0.1.5-py3-none-any.whl (4.1 kB)\n",
            "Requirement already satisfied: torchvision in /usr/local/lib/python3.7/dist-packages (from video-diffusion-pytorch) (0.13.1+cu113)\n",
            "Requirement already satisfied: tqdm in /usr/local/lib/python3.7/dist-packages (from video-diffusion-pytorch) (4.64.0)\n",
            "Collecting einops-exts\n",
            "  Downloading einops_exts-0.0.3-py3-none-any.whl (3.8 kB)\n",
            "Collecting einops>=0.4\n",
            "  Downloading einops-0.4.1-py3-none-any.whl (28 kB)\n",
            "Requirement already satisfied: torch>=1.10 in /usr/local/lib/python3.7/dist-packages (from video-diffusion-pytorch) (1.12.1+cu113)\n",
            "Requirement already satisfied: typing-extensions in /usr/local/lib/python3.7/dist-packages (from torch>=1.10->video-diffusion-pytorch) (4.1.1)\n",
            "Requirement already satisfied: pillow!=8.3.*,>=5.3.0 in /usr/local/lib/python3.7/dist-packages (from torchvision->video-diffusion-pytorch) (7.1.2)\n",
            "Requirement already satisfied: requests in /usr/local/lib/python3.7/dist-packages (from torchvision->video-diffusion-pytorch) (2.23.0)\n",
            "Requirement already satisfied: numpy in /usr/local/lib/python3.7/dist-packages (from torchvision->video-diffusion-pytorch) (1.21.6)\n",
            "Requirement already satisfied: urllib3!=1.25.0,!=1.25.1,<1.26,>=1.21.1 in /usr/local/lib/python3.7/dist-packages (from requests->torchvision->video-diffusion-pytorch) (1.24.3)\n",
            "Requirement already satisfied: idna<3,>=2.5 in /usr/local/lib/python3.7/dist-packages (from requests->torchvision->video-diffusion-pytorch) (2.10)\n",
            "Requirement already satisfied: certifi>=2017.4.17 in /usr/local/lib/python3.7/dist-packages (from requests->torchvision->video-diffusion-pytorch) (2022.6.15)\n",
            "Requirement already satisfied: chardet<4,>=3.0.2 in /usr/local/lib/python3.7/dist-packages (from requests->torchvision->video-diffusion-pytorch) (3.0.4)\n",
            "Installing collected packages: einops, rotary-embedding-torch, einops-exts, video-diffusion-pytorch\n",
            "Successfully installed einops-0.4.1 einops-exts-0.0.3 rotary-embedding-torch-0.1.5 video-diffusion-pytorch-0.6.0\n"
          ]
        }
      ],
      "source": [
        "!pip install video-diffusion-pytorch\n"
      ]
    },
    {
      "cell_type": "code",
      "source": [
        "import torch\n",
        "from video_diffusion_pytorch import Unet3D, GaussianDiffusion\n",
        "\n",
        "model = Unet3D(\n",
        "    dim = 64,\n",
        "    dim_mults = (1, 2, 4, 8)\n",
        ")\n",
        "\n",
        "diffusion = GaussianDiffusion(\n",
        "    model,\n",
        "    image_size = 32,\n",
        "    num_frames = 5,\n",
        "    timesteps = 1000,   # number of steps\n",
        "    loss_type = 'l1'    # L1 or L2\n",
        ")\n",
        "\n",
        "videos = torch.randn(1, 3, 5, 32, 32) # video (batch, channels, frames, height, width) - normalized from -1 to +1\n",
        "loss = diffusion(videos)\n",
        "loss.backward()\n",
        "# after a lot of training\n",
        "\n",
        "sampled_videos = diffusion.sample(batch_size = 4)\n",
        "sampled_videos.shape # (4, 3, 5, 32, 32)"
      ],
      "metadata": {
        "colab": {
          "base_uri": "https://localhost:8080/"
        },
        "id": "gtckEdUH9H0L",
        "outputId": "7322c9a2-237d-46dd-b890-d344f3f5a3c5"
      },
      "execution_count": null,
      "outputs": [
        {
          "output_type": "stream",
          "name": "stderr",
          "text": [
            "sampling loop time step:  66%|██████▌   | 662/1000 [30:17<15:42,  2.79s/it]"
          ]
        }
      ]
    },
    {
      "cell_type": "code",
      "source": [
        ""
      ],
      "metadata": {
        "id": "g1l--xit9Trc"
      },
      "execution_count": null,
      "outputs": []
    }
  ]
}